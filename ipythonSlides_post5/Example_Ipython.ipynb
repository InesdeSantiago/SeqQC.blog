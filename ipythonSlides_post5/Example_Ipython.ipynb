{
 "metadata": {
  "celltoolbar": "Slideshow",
  "name": "",
  "signature": "sha256:69087f294eafa1044c3d41b994b6f62475bc3cf0ca3f35f362ba0ff2b1c62d6c"
 },
 "nbformat": 3,
 "nbformat_minor": 0,
 "worksheets": [
  {
   "cells": [
    {
     "cell_type": "heading",
     "level": 1,
     "metadata": {
      "slideshow": {
       "slide_type": "slide"
      }
     },
     "source": [
      "A IPython notebook"
     ]
    },
    {
     "cell_type": "markdown",
     "metadata": {
      "slideshow": {
       "slide_type": "fragment"
      }
     },
     "source": [
      "IPython notebook is great for:\n",
      "\n",
      "- Sharing code!\n",
      "\n",
      "- Combining code with text, plots, mathematical expressions, videos, images, and more!\n",
      "\n",
      "- Show-off a bit!\n",
      "\n",
      "- Interactive teaching (live code)\n",
      "\n",
      "And.. It has great features such as:\n",
      "\n",
      "- tab-completion\n",
      "\n",
      "- syntax highlighting\n",
      "\n",
      "- %-prefixed commands\n",
      "\n",
      "- Many more..."
     ]
    },
    {
     "cell_type": "heading",
     "level": 1,
     "metadata": {
      "slideshow": {
       "slide_type": "slide"
      }
     },
     "source": [
      "Check it out"
     ]
    },
    {
     "cell_type": "markdown",
     "metadata": {
      "slideshow": {
       "slide_type": "fragment"
      }
     },
     "source": [
      "Check out Ipython Notebook here: http://ipython.org/notebook.html"
     ]
    },
    {
     "cell_type": "heading",
     "level": 2,
     "metadata": {
      "slideshow": {
       "slide_type": "slide"
      }
     },
     "source": [
      "Or see that webpage embebed right here in the notebook:"
     ]
    },
    {
     "cell_type": "code",
     "collapsed": false,
     "input": [
      "<iframe src=http://ipython.org/notebook.html width=1000 height=400></iframe>"
     ],
     "language": "python",
     "metadata": {
      "slideshow": {
       "slide_type": "fragment"
      }
     },
     "outputs": []
    },
    {
     "cell_type": "markdown",
     "metadata": {
      "slideshow": {
       "slide_type": "fragment"
      }
     },
     "source": [
      "<iframe src=http://ipython.org/notebook.html width=1000 height=400></iframe>"
     ]
    },
    {
     "cell_type": "heading",
     "level": 1,
     "metadata": {
      "slideshow": {
       "slide_type": "slide"
      }
     },
     "source": [
      "Markdown"
     ]
    },
    {
     "cell_type": "markdown",
     "metadata": {
      "slideshow": {
       "slide_type": "fragment"
      }
     },
     "source": [
      "- You can write text in markdown too!\n",
      "\n",
      "- Check out some markdown basics here: \n",
      "\n",
      "http://nbviewer.ipython.org/github/ipython/ipython/blob/2.x/examples/Notebook/Markdown%20Cells.ipynb"
     ]
    },
    {
     "cell_type": "heading",
     "level": 1,
     "metadata": {
      "slideshow": {
       "slide_type": "slide"
      }
     },
     "source": [
      "Python code"
     ]
    },
    {
     "cell_type": "markdown",
     "metadata": {
      "slideshow": {
       "slide_type": "fragment"
      }
     },
     "source": [
      "This code finds the factorial of a series of number in one line!"
     ]
    },
    {
     "cell_type": "code",
     "collapsed": false,
     "input": [
      "#this is a terrible and awesome way to do this!\n",
      "factorial = (lambda k: reduce(int.__mul__, range(1,k+1),1))"
     ],
     "language": "python",
     "metadata": {
      "slideshow": {
       "slide_type": "fragment"
      }
     },
     "outputs": [],
     "prompt_number": 8
    },
    {
     "cell_type": "code",
     "collapsed": false,
     "input": [
      "map(factorial, range(1,9))"
     ],
     "language": "python",
     "metadata": {
      "slideshow": {
       "slide_type": "fragment"
      }
     },
     "outputs": [
      {
       "metadata": {},
       "output_type": "pyout",
       "prompt_number": 25,
       "text": [
        "[1, 2, 6, 24, 120, 720, 5040, 40320]"
       ]
      }
     ],
     "prompt_number": 25
    },
    {
     "cell_type": "markdown",
     "metadata": {
      "slideshow": {
       "slide_type": "fragment"
      }
     },
     "source": [
      "This shows the use of some magic with %-prefix commands:"
     ]
    },
    {
     "cell_type": "code",
     "collapsed": false,
     "input": [
      "import random\n",
      "%timeit a = [random.random() for x in range(1000)]"
     ],
     "language": "python",
     "metadata": {
      "slideshow": {
       "slide_type": "fragment"
      }
     },
     "outputs": [
      {
       "output_type": "stream",
       "stream": "stdout",
       "text": [
        "10000 loops, best of 3: 178 us per loop\n"
       ]
      }
     ],
     "prompt_number": 2
    },
    {
     "cell_type": "heading",
     "level": 1,
     "metadata": {
      "slideshow": {
       "slide_type": "slide"
      }
     },
     "source": [
      "Display images"
     ]
    },
    {
     "cell_type": "code",
     "collapsed": false,
     "input": [
      "You can display images stored locally:\n",
      "display(Image(filename='misc-you-dont-say-l.png.png'))\n",
      "\n",
      "\n",
      "Or images stored on the web:\n",
      "<img src=\"http://cdn.alltheragefaces.com/img/faces/large/misc-you-dont-say-l.png\" width=300 height=300/>'"
     ],
     "language": "python",
     "metadata": {
      "slideshow": {
       "slide_type": "fragment"
      }
     },
     "outputs": []
    },
    {
     "cell_type": "markdown",
     "metadata": {
      "slideshow": {
       "slide_type": "fragment"
      }
     },
     "source": [
      "<img src=\"http://cdn.alltheragefaces.com/img/faces/large/misc-you-dont-say-l.png\" width=300 height=300/>"
     ]
    }
   ],
   "metadata": {}
  }
 ]
}